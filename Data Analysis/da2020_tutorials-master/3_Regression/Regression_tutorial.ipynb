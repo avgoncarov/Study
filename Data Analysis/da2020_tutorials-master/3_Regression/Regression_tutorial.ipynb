{
 "cells": [
  {
   "cell_type": "code",
   "execution_count": 1,
   "metadata": {},
   "outputs": [],
   "source": [
    "import pandas as pd\n",
    "import seaborn as sns\n",
    "import matplotlib.pyplot as plt\n",
    "import numpy as np"
   ]
  },
  {
   "cell_type": "markdown",
   "metadata": {},
   "source": [
    "# Requirements\n",
    "\n",
    "- DIY regression algorithm\n",
    "- Compare results with scikit-learn implementation\n",
    "- Train and test with different dataset partitions, compare errors\n",
    "- Validate and compare different models and/or parameter sets\n",
    "- Feature engineering (various feature combinations, polynomial features, etc)\n",
    "- Interpret results"
   ]
  },
  {
   "cell_type": "markdown",
   "metadata": {},
   "source": [
    "# Preparation\n",
    "\n",
    "Data source: https://www.kaggle.com/ueslei/ucs-satellite-database"
   ]
  },
  {
   "cell_type": "code",
   "execution_count": 2,
   "metadata": {},
   "outputs": [],
   "source": [
    "df = pd.read_csv('../2_EDA/ucs-satellite-database/UCS_Satellite_Database_12-1-2018-1.csv',\n",
    "    engine='python', decimal=',', thousands='.', parse_dates=['Date of Launch'], dayfirst=True)\n",
    "\n",
    "# Remove some columns\n",
    "df.drop(df.columns[df.columns.tolist().index('Comments')+1:], axis=1, inplace=True)\n",
    "\n",
    "# Type conversions\n",
    "df['Eccentricity'] = df['Eccentricity'].replace(',', '.', regex=True).astype(float)\n",
    "df['Inclination (degrees)'] = df['Inclination (degrees)'].replace(',', '.', regex=True).astype(float)"
   ]
  },
  {
   "cell_type": "code",
   "execution_count": 3,
   "metadata": {},
   "outputs": [
    {
     "data": {
      "text/html": [
       "<div>\n",
       "<style scoped>\n",
       "    .dataframe tbody tr th:only-of-type {\n",
       "        vertical-align: middle;\n",
       "    }\n",
       "\n",
       "    .dataframe tbody tr th {\n",
       "        vertical-align: top;\n",
       "    }\n",
       "\n",
       "    .dataframe thead th {\n",
       "        text-align: right;\n",
       "    }\n",
       "</style>\n",
       "<table border=\"1\" class=\"dataframe\">\n",
       "  <thead>\n",
       "    <tr style=\"text-align: right;\">\n",
       "      <th></th>\n",
       "      <th>Name of Satellite, Alternate Names</th>\n",
       "      <th>Country/Org of UN Registry</th>\n",
       "      <th>Country of Operator/Owner</th>\n",
       "      <th>Operator/Owner</th>\n",
       "      <th>Users</th>\n",
       "      <th>Purpose</th>\n",
       "      <th>Detailed Purpose</th>\n",
       "      <th>Class of Orbit</th>\n",
       "      <th>Type of Orbit</th>\n",
       "      <th>Longitude of GEO (degrees)</th>\n",
       "      <th>...</th>\n",
       "      <th>Power (watts)</th>\n",
       "      <th>Date of Launch</th>\n",
       "      <th>Expected Lifetime (yrs.)</th>\n",
       "      <th>Contractor</th>\n",
       "      <th>Country of Contractor</th>\n",
       "      <th>Launch Site</th>\n",
       "      <th>Launch Vehicle</th>\n",
       "      <th>COSPAR Number</th>\n",
       "      <th>NORAD Number</th>\n",
       "      <th>Comments</th>\n",
       "    </tr>\n",
       "  </thead>\n",
       "  <tbody>\n",
       "    <tr>\n",
       "      <th>0</th>\n",
       "      <td>3Cat-1</td>\n",
       "      <td>NR (11/18)</td>\n",
       "      <td>Spain</td>\n",
       "      <td>Universitat Polit�cnica de Catalunya</td>\n",
       "      <td>Civil</td>\n",
       "      <td>Technology Development</td>\n",
       "      <td>NaN</td>\n",
       "      <td>LEO</td>\n",
       "      <td>NaN</td>\n",
       "      <td>0.0</td>\n",
       "      <td>...</td>\n",
       "      <td>NaN</td>\n",
       "      <td>2018-11-29</td>\n",
       "      <td>NaN</td>\n",
       "      <td>Universitat Polit�cnica de Catalunya</td>\n",
       "      <td>Spain</td>\n",
       "      <td>Satish Dhawan Space Centre</td>\n",
       "      <td>PSLV</td>\n",
       "      <td>2018-096</td>\n",
       "      <td>43723</td>\n",
       "      <td>Student built.</td>\n",
       "    </tr>\n",
       "    <tr>\n",
       "      <th>1</th>\n",
       "      <td>Aalto-1</td>\n",
       "      <td>Finland</td>\n",
       "      <td>Finland</td>\n",
       "      <td>University of Aalto</td>\n",
       "      <td>Civil</td>\n",
       "      <td>Technology Development</td>\n",
       "      <td>NaN</td>\n",
       "      <td>LEO</td>\n",
       "      <td>NaN</td>\n",
       "      <td>0.0</td>\n",
       "      <td>...</td>\n",
       "      <td>4.5</td>\n",
       "      <td>2017-06-23</td>\n",
       "      <td>2</td>\n",
       "      <td>University of Aalto</td>\n",
       "      <td>Finland</td>\n",
       "      <td>Satish Dhawan Space Centre</td>\n",
       "      <td>PSLV</td>\n",
       "      <td>2017-036L</td>\n",
       "      <td>42775</td>\n",
       "      <td>Technology development and education.</td>\n",
       "    </tr>\n",
       "    <tr>\n",
       "      <th>2</th>\n",
       "      <td>AAUSat-4</td>\n",
       "      <td>Denmark</td>\n",
       "      <td>Denmark</td>\n",
       "      <td>University of Aalborg</td>\n",
       "      <td>Civil</td>\n",
       "      <td>Earth Observation</td>\n",
       "      <td>Automatic Identification System (AIS)</td>\n",
       "      <td>LEO</td>\n",
       "      <td>Sun-Synchronous</td>\n",
       "      <td>0.0</td>\n",
       "      <td>...</td>\n",
       "      <td>NaN</td>\n",
       "      <td>2016-04-25</td>\n",
       "      <td>NaN</td>\n",
       "      <td>University of Aalborg</td>\n",
       "      <td>Denmark</td>\n",
       "      <td>Guiana Space Center</td>\n",
       "      <td>Soyuz 2.1a</td>\n",
       "      <td>2016-025E</td>\n",
       "      <td>41460</td>\n",
       "      <td>Carries AIS system.</td>\n",
       "    </tr>\n",
       "    <tr>\n",
       "      <th>3</th>\n",
       "      <td>ABS-2 (Koreasat-8, ST-3)</td>\n",
       "      <td>NR</td>\n",
       "      <td>Multinational</td>\n",
       "      <td>Asia Broadcast Satellite Ltd.</td>\n",
       "      <td>Commercial</td>\n",
       "      <td>Communications</td>\n",
       "      <td>NaN</td>\n",
       "      <td>GEO</td>\n",
       "      <td>NaN</td>\n",
       "      <td>75.0</td>\n",
       "      <td>...</td>\n",
       "      <td>16</td>\n",
       "      <td>2014-02-06</td>\n",
       "      <td>15</td>\n",
       "      <td>Space Systems/Loral</td>\n",
       "      <td>USA</td>\n",
       "      <td>Guiana Space Center</td>\n",
       "      <td>Ariane 5 ECA</td>\n",
       "      <td>2014-006A</td>\n",
       "      <td>39508</td>\n",
       "      <td>32 C-band, 51 Ku-band, and 6 Ka-band transpond...</td>\n",
       "    </tr>\n",
       "    <tr>\n",
       "      <th>4</th>\n",
       "      <td>ABS-2A</td>\n",
       "      <td>NR (12/16)</td>\n",
       "      <td>Multinational</td>\n",
       "      <td>Asia Broadcast Satellite Ltd.</td>\n",
       "      <td>Commercial</td>\n",
       "      <td>Communications</td>\n",
       "      <td>NaN</td>\n",
       "      <td>GEO</td>\n",
       "      <td>NaN</td>\n",
       "      <td>-75.0</td>\n",
       "      <td>...</td>\n",
       "      <td>NaN</td>\n",
       "      <td>2016-06-15</td>\n",
       "      <td>15</td>\n",
       "      <td>Boeing Satellite Systems</td>\n",
       "      <td>USA</td>\n",
       "      <td>Cape Canaveral</td>\n",
       "      <td>Falcon 9</td>\n",
       "      <td>2016-038A</td>\n",
       "      <td>41588</td>\n",
       "      <td>NaN</td>\n",
       "    </tr>\n",
       "  </tbody>\n",
       "</table>\n",
       "<p>5 rows × 27 columns</p>\n",
       "</div>"
      ],
      "text/plain": [
       "  Name of Satellite, Alternate Names Country/Org of UN Registry  \\\n",
       "0                             3Cat-1                 NR (11/18)   \n",
       "1                           Aalto-1                     Finland   \n",
       "2                           AAUSat-4                    Denmark   \n",
       "3           ABS-2 (Koreasat-8, ST-3)                         NR   \n",
       "4                             ABS-2A                 NR (12/16)   \n",
       "\n",
       "  Country of Operator/Owner                        Operator/Owner       Users  \\\n",
       "0                     Spain  Universitat Polit�cnica de Catalunya       Civil   \n",
       "1                   Finland                   University of Aalto       Civil   \n",
       "2                   Denmark                 University of Aalborg       Civil   \n",
       "3             Multinational         Asia Broadcast Satellite Ltd.  Commercial   \n",
       "4             Multinational         Asia Broadcast Satellite Ltd.  Commercial   \n",
       "\n",
       "                  Purpose                       Detailed Purpose  \\\n",
       "0  Technology Development                                    NaN   \n",
       "1  Technology Development                                    NaN   \n",
       "2       Earth Observation  Automatic Identification System (AIS)   \n",
       "3          Communications                                    NaN   \n",
       "4          Communications                                    NaN   \n",
       "\n",
       "  Class of Orbit    Type of Orbit Longitude of GEO (degrees)  ...  \\\n",
       "0            LEO              NaN                        0.0  ...   \n",
       "1            LEO              NaN                        0.0  ...   \n",
       "2            LEO  Sun-Synchronous                        0.0  ...   \n",
       "3            GEO              NaN                       75.0  ...   \n",
       "4            GEO              NaN                      -75.0  ...   \n",
       "\n",
       "   Power (watts)  Date of Launch  Expected Lifetime (yrs.)  \\\n",
       "0            NaN      2018-11-29                       NaN   \n",
       "1            4.5      2017-06-23                         2   \n",
       "2            NaN      2016-04-25                       NaN   \n",
       "3             16      2014-02-06                        15   \n",
       "4            NaN      2016-06-15                        15   \n",
       "\n",
       "                             Contractor  Country of Contractor  \\\n",
       "0  Universitat Polit�cnica de Catalunya                  Spain   \n",
       "1                   University of Aalto                Finland   \n",
       "2                 University of Aalborg                Denmark   \n",
       "3                   Space Systems/Loral                    USA   \n",
       "4              Boeing Satellite Systems                    USA   \n",
       "\n",
       "                  Launch Site Launch Vehicle COSPAR Number NORAD Number  \\\n",
       "0  Satish Dhawan Space Centre           PSLV      2018-096        43723   \n",
       "1  Satish Dhawan Space Centre           PSLV     2017-036L        42775   \n",
       "2         Guiana Space Center     Soyuz 2.1a     2016-025E        41460   \n",
       "3         Guiana Space Center   Ariane 5 ECA     2014-006A        39508   \n",
       "4              Cape Canaveral       Falcon 9     2016-038A        41588   \n",
       "\n",
       "                                            Comments  \n",
       "0                                     Student built.  \n",
       "1              Technology development and education.  \n",
       "2                                Carries AIS system.  \n",
       "3  32 C-band, 51 Ku-band, and 6 Ka-band transpond...  \n",
       "4                                                NaN  \n",
       "\n",
       "[5 rows x 27 columns]"
      ]
     },
     "execution_count": 3,
     "metadata": {},
     "output_type": "execute_result"
    }
   ],
   "source": [
    "df.head()"
   ]
  },
  {
   "cell_type": "code",
   "execution_count": 4,
   "metadata": {
    "scrolled": false
   },
   "outputs": [
    {
     "name": "stdout",
     "output_type": "stream",
     "text": [
      "<class 'pandas.core.frame.DataFrame'>\n",
      "RangeIndex: 1957 entries, 0 to 1956\n",
      "Data columns (total 27 columns):\n",
      "Name of Satellite, Alternate Names    1957 non-null object\n",
      "Country/Org of UN Registry            1957 non-null object\n",
      "Country of Operator/Owner             1957 non-null object\n",
      "Operator/Owner                        1957 non-null object\n",
      "Users                                 1957 non-null object\n",
      "Purpose                               1957 non-null object\n",
      "Detailed Purpose                      720 non-null object\n",
      "Class of Orbit                        1955 non-null object\n",
      "Type of Orbit                         1348 non-null object\n",
      "Longitude of GEO (degrees)            1956 non-null object\n",
      "Perigee (km)                          1957 non-null float64\n",
      "Apogee (km)                           1957 non-null int64\n",
      "Eccentricity                          1957 non-null float64\n",
      "Inclination (degrees)                 1957 non-null float64\n",
      "Period (minutes)                      1957 non-null float64\n",
      "Launch Mass (kg.)                     1813 non-null float64\n",
      "Dry Mass (kg.)                        488 non-null object\n",
      "Power (watts)                         640 non-null object\n",
      "Date of Launch                        1954 non-null datetime64[ns]\n",
      "Expected Lifetime (yrs.)              1127 non-null object\n",
      "Contractor                            1955 non-null object\n",
      "Country of Contractor                 1957 non-null object\n",
      "Launch Site                           1957 non-null object\n",
      "Launch Vehicle                        1957 non-null object\n",
      "COSPAR Number                         1957 non-null object\n",
      "NORAD Number                          1957 non-null object\n",
      "Comments                              1268 non-null object\n",
      "dtypes: datetime64[ns](1), float64(5), int64(1), object(20)\n",
      "memory usage: 412.9+ KB\n"
     ]
    }
   ],
   "source": [
    "df.info()"
   ]
  },
  {
   "cell_type": "code",
   "execution_count": 5,
   "metadata": {},
   "outputs": [
    {
     "data": {
      "text/plain": [
       "0       97.40\n",
       "1       97.45\n",
       "2       98.20\n",
       "3        0.08\n",
       "4        0.00\n",
       "        ...  \n",
       "1952    97.40\n",
       "1953    97.46\n",
       "1954    98.56\n",
       "1955    97.50\n",
       "1956    97.50\n",
       "Name: Inclination (degrees), Length: 1957, dtype: float64"
      ]
     },
     "execution_count": 5,
     "metadata": {},
     "output_type": "execute_result"
    }
   ],
   "source": [
    "df['Inclination (degrees)']"
   ]
  },
  {
   "cell_type": "markdown",
   "metadata": {},
   "source": [
    "## Outliers"
   ]
  },
  {
   "cell_type": "code",
   "execution_count": 6,
   "metadata": {},
   "outputs": [],
   "source": [
    "def outliers_iqr(df, feature):\n",
    "    q1 = df[feature].quantile(0.25)\n",
    "    q3 = df[feature].quantile(0.75)\n",
    "    iqr = q3 - q1\n",
    "    outliers = ((df[[feature]] < (q1 - 1.5 * iqr)) |(df[[feature]] > (q3 + 1.5 * iqr))).any(axis=1)\n",
    "    return outliers"
   ]
  },
  {
   "cell_type": "markdown",
   "metadata": {},
   "source": [
    "## Evaluation metrics\n",
    "- MAE: mean absolute error\n",
    "- MSE: mean squared error\n",
    "- RMSE: root mean squared error\n",
    "- R2: coefficient of determination"
   ]
  },
  {
   "cell_type": "code",
   "execution_count": 7,
   "metadata": {},
   "outputs": [],
   "source": [
    "from sklearn.metrics import mean_absolute_error, mean_squared_error,r2_score\n",
    "\n",
    "def print_metrics(y_true, y_pred):\n",
    "    print(f'MAE: {mean_absolute_error(y_true, y_pred)}')\n",
    "    print(f'MSE: {mean_squared_error(y_true, y_pred)}')\n",
    "    print(f'RMSE: {np.sqrt(mean_squared_error(y_true, y_pred))}')\n",
    "    print(f'R2: {r2_score(y_true, y_pred)}')"
   ]
  },
  {
   "cell_type": "markdown",
   "metadata": {},
   "source": [
    "# Simple linear regression\n",
    "Let's try to predict satellite's orbital period using apogee values"
   ]
  },
  {
   "cell_type": "code",
   "execution_count": 8,
   "metadata": {},
   "outputs": [
    {
     "data": {
      "image/png": "[encoded data removed]",
      "text/plain": [
       "<Figure size 576x360 with 1 Axes>"
      ]
     },
     "metadata": {
      "needs_background": "light"
     },
     "output_type": "display_data"
    }
   ],
   "source": [
    "# With outliers\n",
    "plt.figure(figsize=(8, 5))\n",
    "plt.scatter(df['Apogee (km)'], df['Period (minutes)'])\n",
    "plt.xlabel('Apogee')\n",
    "plt.ylabel('Period')\n",
    "plt.grid()\n",
    "plt.show()"
   ]
  },
  {
   "cell_type": "code",
   "execution_count": 9,
   "metadata": {},
   "outputs": [
    {
     "data": {
      "image/png": "[encoded data removed]",
      "text/plain": [
       "<Figure size 576x360 with 1 Axes>"
      ]
     },
     "metadata": {
      "needs_background": "light"
     },
     "output_type": "display_data"
    }
   ],
   "source": [
    "# Without outliers\n",
    "non_outliers = ~outliers_iqr(df, 'Apogee (km)')\n",
    "\n",
    "plt.figure(figsize=(8, 5))\n",
    "plt.scatter(df[non_outliers]['Apogee (km)'], df[non_outliers]['Period (minutes)'])\n",
    "plt.xlabel('Apogee')\n",
    "plt.ylabel('Period')\n",
    "plt.grid()\n",
    "plt.show()"
   ]
  },
  {
   "cell_type": "code",
   "execution_count": 10,
   "metadata": {},
   "outputs": [
    {
     "name": "stdout",
     "output_type": "stream",
     "text": [
      "Training error:\n",
      "MAE: 113.56576369066704\n",
      "MSE: 60367.282909143425\n",
      "RMSE: 245.697543555371\n",
      "R2: 0.8333222573049205\n",
      "\n",
      "Model parameters:\n",
      "[[0.03449188]] [137.70262186]\n"
     ]
    }
   ],
   "source": [
    "from sklearn.linear_model import LinearRegression\n",
    "\n",
    "lr = LinearRegression()\n",
    "X = df[non_outliers]['Apogee (km)'].values.reshape(-1, 1)\n",
    "y = df[non_outliers]['Period (minutes)'].values.reshape(-1, 1)\n",
    "lr.fit(X, y)\n",
    "y_pred = lr.predict(X)\n",
    "\n",
    "print('Training error:')\n",
    "print_metrics(y, lr.predict(X))\n",
    "\n",
    "print()\n",
    "print('Model parameters:')\n",
    "print(lr.coef_, lr.intercept_)"
   ]
  },
  {
   "cell_type": "markdown",
   "metadata": {},
   "source": [
    "## Train/test split"
   ]
  },
  {
   "cell_type": "code",
   "execution_count": 11,
   "metadata": {},
   "outputs": [
    {
     "name": "stdout",
     "output_type": "stream",
     "text": [
      "Training error:\n",
      "MAE: 116.56074313703282\n",
      "MSE: 62036.68255500926\n",
      "RMSE: 249.07164141067778\n",
      "R2: 0.8313641843424914\n",
      "\n",
      "Test error:\n",
      "MAE: 112.19168654130539\n",
      "MSE: 55383.01263889283\n",
      "RMSE: 235.33595696130422\n",
      "R2: 0.8382992655375505\n"
     ]
    }
   ],
   "source": [
    "from sklearn.model_selection import train_test_split\n",
    "\n",
    "# Default proportions are 75% / 25%\n",
    "X_train, X_test, y_train, y_test = train_test_split(X, y, random_state=100)\n",
    "lr.fit(X_train, y_train)\n",
    "# y_pred = lr.predict(X_test)\n",
    "\n",
    "print('Training error:')\n",
    "print_metrics(y_train, lr.predict(X_train))\n",
    "\n",
    "print()\n",
    "print('Test error:')\n",
    "print_metrics(y_test, lr.predict(X_test))"
   ]
  },
  {
   "cell_type": "code",
   "execution_count": 12,
   "metadata": {},
   "outputs": [
    {
     "data": {
      "image/png": "[encoded data removed]",
      "text/plain": [
       "<Figure size 576x360 with 1 Axes>"
      ]
     },
     "metadata": {
      "needs_background": "light"
     },
     "output_type": "display_data"
    }
   ],
   "source": [
    "# Actual vs. predicted values:\n",
    "def plot_true_vs_pred(y_true, y_pred):\n",
    "    plt.figure(figsize=(8, 5))\n",
    "    plt.scatter(y_true, y_pred)\n",
    "    plt.plot([y_true.min(), y_true.max()], [y_true.min(), y_true.max()], color='red')\n",
    "    plt.xlabel('Actual')\n",
    "    plt.ylabel('Predicted')\n",
    "    plt.grid()\n",
    "    plt.show()\n",
    "    \n",
    "plot_true_vs_pred(y_test, lr.predict(X_test))"
   ]
  },
  {
   "cell_type": "markdown",
   "metadata": {},
   "source": [
    "# Multiple linear regression\n",
    "Using more features:"
   ]
  },
  {
   "cell_type": "code",
   "execution_count": 13,
   "metadata": {},
   "outputs": [],
   "source": [
    "mlr_features = ['Perigee (km)', 'Apogee (km)', 'Eccentricity', 'Inclination (degrees)']\n",
    "\n",
    "X = df[non_outliers][mlr_features].values\n",
    "y = df[non_outliers]['Period (minutes)'].values.reshape(-1, 1)\n",
    "X_train, X_test, y_train, y_test = train_test_split(X, y, random_state=99)"
   ]
  },
  {
   "cell_type": "code",
   "execution_count": 14,
   "metadata": {},
   "outputs": [
    {
     "name": "stdout",
     "output_type": "stream",
     "text": [
      "Training error:\n",
      "MAE: 88.93722331809948\n",
      "MSE: 27936.489759789732\n",
      "RMSE: 167.14212443244142\n",
      "R2: 0.923603439111813\n",
      "\n",
      "Test error:\n",
      "MAE: 86.67793658056634\n",
      "MSE: 28510.53400875772\n",
      "RMSE: 168.8506263203004\n",
      "R2: 0.9188295320575284\n"
     ]
    },
    {
     "data": {
      "image/png": "[encoded data removed]",
      "text/plain": [
       "<Figure size 576x360 with 1 Axes>"
      ]
     },
     "metadata": {
      "needs_background": "light"
     },
     "output_type": "display_data"
    }
   ],
   "source": [
    "mlr = LinearRegression()\n",
    "mlr.fit(X_train, y_train)\n",
    "\n",
    "print('Training error:')\n",
    "print_metrics(y_train, mlr.predict(X_train))\n",
    "print()\n",
    "print('Test error:')\n",
    "print_metrics(y_test, mlr.predict(X_test))\n",
    "\n",
    "plot_true_vs_pred(y_test, mlr.predict(X_test))"
   ]
  },
  {
   "cell_type": "markdown",
   "metadata": {},
   "source": [
    "# Model selection"
   ]
  },
  {
   "cell_type": "markdown",
   "metadata": {},
   "source": [
    "## Feature engineering"
   ]
  },
  {
   "cell_type": "code",
   "execution_count": 15,
   "metadata": {},
   "outputs": [
    {
     "name": "stdout",
     "output_type": "stream",
     "text": [
      "Training error:\n",
      "MAE: 40.48996297169756\n",
      "MSE: 15077.134886523574\n",
      "RMSE: 122.78898520031662\n",
      "R2: 0.9587692919446307\n",
      "\n",
      "Test error:\n",
      "MAE: 39.42122541884381\n",
      "MSE: 19006.358982335936\n",
      "RMSE: 137.863552044534\n",
      "R2: 0.9458882442536884\n"
     ]
    },
    {
     "data": {
      "image/png": "[encoded data removed]",
      "text/plain": [
       "<Figure size 576x360 with 1 Axes>"
      ]
     },
     "metadata": {
      "needs_background": "light"
     },
     "output_type": "display_data"
    }
   ],
   "source": [
    "from sklearn.preprocessing import PolynomialFeatures\n",
    "\n",
    "# Polynomial features: 2nd degree\n",
    "poly2 = PolynomialFeatures(degree=2)\n",
    "X_train_p2 = poly2.fit_transform(X_train)\n",
    "X_test_p2 = poly2.fit_transform(X_test)\n",
    "\n",
    "mlr2 = LinearRegression(normalize=True)\n",
    "mlr2.fit(X_train_p2, y_train)\n",
    "\n",
    "print('Training error:')\n",
    "print_metrics(y_train, mlr2.predict(X_train_p2))\n",
    "print()\n",
    "print('Test error:')\n",
    "print_metrics(y_test, mlr2.predict(X_test_p2))\n",
    "\n",
    "plot_true_vs_pred(y_test, mlr2.predict(X_test_p2))"
   ]
  },
  {
   "cell_type": "code",
   "execution_count": 16,
   "metadata": {},
   "outputs": [
    {
     "name": "stdout",
     "output_type": "stream",
     "text": [
      "Training error:\n",
      "MAE: 31.737717827034476\n",
      "MSE: 8660.623654756519\n",
      "RMSE: 93.06247178512142\n",
      "R2: 0.9763162133804437\n",
      "\n",
      "Test error:\n",
      "MAE: 49.492969713895384\n",
      "MSE: 50721.31338630205\n",
      "RMSE: 225.21392804687292\n",
      "R2: 0.8555946815672332\n"
     ]
    },
    {
     "data": {
      "image/png": "[encoded data removed]",
      "text/plain": [
       "<Figure size 576x360 with 1 Axes>"
      ]
     },
     "metadata": {
      "needs_background": "light"
     },
     "output_type": "display_data"
    }
   ],
   "source": [
    "# Polynomial features: 3rd degree\n",
    "poly3 = PolynomialFeatures(degree=3)\n",
    "X_train_p3 = poly3.fit_transform(X_train)\n",
    "X_test_p3 = poly3.fit_transform(X_test)\n",
    "\n",
    "mlr3 = LinearRegression(normalize=True)\n",
    "mlr3.fit(X_train_p3, y_train)\n",
    "\n",
    "print('Training error:')\n",
    "print_metrics(y_train, mlr3.predict(X_train_p3))\n",
    "print()\n",
    "print('Test error:')\n",
    "print_metrics(y_test, mlr3.predict(X_test_p3))\n",
    "\n",
    "plot_true_vs_pred(y_test, mlr3.predict(X_test_p3))"
   ]
  },
  {
   "cell_type": "code",
   "execution_count": 17,
   "metadata": {},
   "outputs": [
    {
     "data": {
      "image/png": "[encoded data removed]",
      "text/plain": [
       "<Figure size 576x360 with 1 Axes>"
      ]
     },
     "metadata": {
      "needs_background": "light"
     },
     "output_type": "display_data"
    }
   ],
   "source": [
    "train_errors, test_errors = [], []\n",
    "degrees = list(range(1, 6))\n",
    "\n",
    "for deg in degrees:\n",
    "    poly = PolynomialFeatures(degree=deg)\n",
    "    X_train_p = poly.fit_transform(X_train)\n",
    "    X_test_p = poly.fit_transform(X_test)\n",
    "\n",
    "    mlrp = LinearRegression(normalize=True)\n",
    "    mlrp.fit(X_train_p, y_train)\n",
    "    \n",
    "    # RMSE\n",
    "    train_error = np.sqrt(mean_squared_error(y_train, mlrp.predict(X_train_p)))\n",
    "    test_error = np.sqrt(mean_squared_error(y_test, mlrp.predict(X_test_p)))\n",
    "    train_errors.append(train_error)\n",
    "    test_errors.append(test_error)\n",
    "    \n",
    "plt.figure(figsize=(8, 5))\n",
    "plt.plot(train_errors, label='Training error')\n",
    "plt.plot(test_errors, label='Test error')\n",
    "plt.xticks(range(0, 5), degrees)\n",
    "plt.xlabel('Complexity (degrees)')\n",
    "plt.ylabel('RMSE (log scale)')\n",
    "plt.legend()\n",
    "plt.yscale('log')\n",
    "plt.grid()\n",
    "plt.show()"
   ]
  },
  {
   "cell_type": "markdown",
   "metadata": {},
   "source": [
    "## Regularization"
   ]
  },
  {
   "cell_type": "code",
   "execution_count": 18,
   "metadata": {},
   "outputs": [
    {
     "name": "stderr",
     "output_type": "stream",
     "text": [
      "/home/tomas/.pyenv/versions/3.7.2/lib/python3.7/site-packages/sklearn/linear_model/coordinate_descent.py:475: ConvergenceWarning: Objective did not converge. You might want to increase the number of iterations. Duality gap: 7825667.420132825, tolerance: 53388.88894355954\n",
      "  positive)\n",
      "/home/tomas/.pyenv/versions/3.7.2/lib/python3.7/site-packages/sklearn/linear_model/coordinate_descent.py:475: ConvergenceWarning: Objective did not converge. You might want to increase the number of iterations. Duality gap: 7825679.229031531, tolerance: 53388.88894355954\n",
      "  positive)\n",
      "/home/tomas/.pyenv/versions/3.7.2/lib/python3.7/site-packages/sklearn/linear_model/coordinate_descent.py:475: ConvergenceWarning: Objective did not converge. You might want to increase the number of iterations. Duality gap: 7825797.314858199, tolerance: 53388.88894355954\n",
      "  positive)\n",
      "/home/tomas/.pyenv/versions/3.7.2/lib/python3.7/site-packages/sklearn/linear_model/coordinate_descent.py:475: ConvergenceWarning: Objective did not converge. You might want to increase the number of iterations. Duality gap: 7826977.857004213, tolerance: 53388.88894355954\n",
      "  positive)\n",
      "/home/tomas/.pyenv/versions/3.7.2/lib/python3.7/site-packages/sklearn/linear_model/coordinate_descent.py:475: ConvergenceWarning: Objective did not converge. You might want to increase the number of iterations. Duality gap: 7838751.645747444, tolerance: 53388.88894355954\n",
      "  positive)\n",
      "/home/tomas/.pyenv/versions/3.7.2/lib/python3.7/site-packages/sklearn/linear_model/coordinate_descent.py:475: ConvergenceWarning: Objective did not converge. You might want to increase the number of iterations. Duality gap: 7953410.050896411, tolerance: 53388.88894355954\n",
      "  positive)\n",
      "/home/tomas/.pyenv/versions/3.7.2/lib/python3.7/site-packages/sklearn/linear_model/coordinate_descent.py:475: ConvergenceWarning: Objective did not converge. You might want to increase the number of iterations. Duality gap: 8780660.87655712, tolerance: 53388.88894355954\n",
      "  positive)\n",
      "/home/tomas/.pyenv/versions/3.7.2/lib/python3.7/site-packages/sklearn/linear_model/coordinate_descent.py:475: ConvergenceWarning: Objective did not converge. You might want to increase the number of iterations. Duality gap: 11474779.020496968, tolerance: 53388.88894355954\n",
      "  positive)\n",
      "/home/tomas/.pyenv/versions/3.7.2/lib/python3.7/site-packages/sklearn/linear_model/coordinate_descent.py:475: ConvergenceWarning: Objective did not converge. You might want to increase the number of iterations. Duality gap: 12464022.406669173, tolerance: 53388.88894355954\n",
      "  positive)\n",
      "/home/tomas/.pyenv/versions/3.7.2/lib/python3.7/site-packages/sklearn/linear_model/coordinate_descent.py:475: ConvergenceWarning: Objective did not converge. You might want to increase the number of iterations. Duality gap: 13931109.798396101, tolerance: 53388.88894355954\n",
      "  positive)\n",
      "/home/tomas/.pyenv/versions/3.7.2/lib/python3.7/site-packages/sklearn/linear_model/coordinate_descent.py:475: ConvergenceWarning: Objective did not converge. You might want to increase the number of iterations. Duality gap: 14617545.518113842, tolerance: 53388.88894355954\n",
      "  positive)\n"
     ]
    },
    {
     "data": {
      "image/png": "[encoded data removed]",
      "text/plain": [
       "<Figure size 576x360 with 1 Axes>"
      ]
     },
     "metadata": {
      "needs_background": "light"
     },
     "output_type": "display_data"
    }
   ],
   "source": [
    "from sklearn.linear_model import Lasso\n",
    "\n",
    "train_errors, test_errors = [], []\n",
    "alphas = np.geomspace(1e-5, 1e5, 11)\n",
    "\n",
    "# Using 3rd degree polynomial features\n",
    "for alpha in alphas:\n",
    "    rr = Lasso(alpha=alpha)\n",
    "    rr.fit(X_train_p3, y_train)\n",
    "    \n",
    "    # RMSE\n",
    "    train_error = np.sqrt(mean_squared_error(y_train, rr.predict(X_train_p3)))\n",
    "    test_error = np.sqrt(mean_squared_error(y_test, rr.predict(X_test_p3)))\n",
    "    train_errors.append(train_error)\n",
    "    test_errors.append(test_error)\n",
    "    \n",
    "plt.figure(figsize=(8, 5))\n",
    "plt.plot(train_errors, label='Training error')\n",
    "plt.plot(test_errors, label='Test error')\n",
    "plt.xticks(range(0, len(alphas)), alphas)\n",
    "plt.xlabel('Regularization parameter (alpha)')\n",
    "plt.ylabel('RMSE (log scale)')\n",
    "plt.legend()\n",
    "plt.yscale('log')\n",
    "plt.grid()\n",
    "plt.show()"
   ]
  },
  {
   "cell_type": "code",
   "execution_count": 19,
   "metadata": {},
   "outputs": [
    {
     "name": "stderr",
     "output_type": "stream",
     "text": [
      "/home/tomas/.pyenv/versions/3.7.2/lib/python3.7/site-packages/sklearn/linear_model/coordinate_descent.py:475: ConvergenceWarning: Objective did not converge. You might want to increase the number of iterations. Duality gap: 12464022.406669173, tolerance: 53388.88894355954\n",
      "  positive)\n"
     ]
    },
    {
     "name": "stdout",
     "output_type": "stream",
     "text": [
      "Training error:\n",
      "MAE: 39.91559217124188\n",
      "MSE: 16544.22131290706\n",
      "RMSE: 128.62434183663316\n",
      "R2: 0.9547573219918859\n",
      "\n",
      "Test error:\n",
      "MAE: 35.64593701108792\n",
      "MSE: 14966.172253974677\n",
      "RMSE: 122.33630799551977\n",
      "R2: 0.9573907944063903\n"
     ]
    },
    {
     "data": {
      "image/png": "[encoded data removed]",
      "text/plain": [
       "<Figure size 576x360 with 1 Axes>"
      ]
     },
     "metadata": {
      "needs_background": "light"
     },
     "output_type": "display_data"
    }
   ],
   "source": [
    "# Check with particular alpha value:\n",
    "rr1 = Lasso(alpha=1000)\n",
    "rr1.fit(X_train_p3, y_train)\n",
    "\n",
    "print('Training error:')\n",
    "print_metrics(y_train, rr1.predict(X_train_p3))\n",
    "print()\n",
    "print('Test error:')\n",
    "print_metrics(y_test, rr1.predict(X_test_p3))\n",
    "\n",
    "plot_true_vs_pred(y_test, rr1.predict(X_test_p3))"
   ]
  },
  {
   "cell_type": "markdown",
   "metadata": {},
   "source": [
    "## Detecting outliers from residuals"
   ]
  },
  {
   "cell_type": "code",
   "execution_count": 20,
   "metadata": {},
   "outputs": [
    {
     "data": {
      "image/png": "[encoded data removed]",
      "text/plain": [
       "<Figure size 576x360 with 1 Axes>"
      ]
     },
     "metadata": {
      "needs_background": "light"
     },
     "output_type": "display_data"
    }
   ],
   "source": [
    "diffs = rr1.predict(X_train_p3) - y_train.reshape(-1)\n",
    "\n",
    "plt.figure(figsize=(8, 5))\n",
    "plt.hist(diffs, bins=50)\n",
    "plt.grid()\n",
    "plt.show()"
   ]
  },
  {
   "cell_type": "code",
   "execution_count": 21,
   "metadata": {},
   "outputs": [],
   "source": [
    "# Remove outliers from training set\n",
    "mask = diffs > -500\n",
    "X_train_p3_sub = X_train_p3[mask]\n",
    "y_train_sub = y_train[mask]"
   ]
  },
  {
   "cell_type": "code",
   "execution_count": 22,
   "metadata": {},
   "outputs": [
    {
     "name": "stderr",
     "output_type": "stream",
     "text": [
      "/home/tomas/.pyenv/versions/3.7.2/lib/python3.7/site-packages/sklearn/linear_model/coordinate_descent.py:475: ConvergenceWarning: Objective did not converge. You might want to increase the number of iterations. Duality gap: 720822.4020900116, tolerance: 52024.02143070323\n",
      "  positive)\n"
     ]
    },
    {
     "name": "stdout",
     "output_type": "stream",
     "text": [
      "Training error:\n",
      "MAE: 6.204437229474805\n",
      "MSE: 642.4141351574525\n",
      "RMSE: 25.345889906599304\n",
      "R2: 0.9982205935963736\n",
      "\n",
      "Test error:\n",
      "MAE: 20.293096343793735\n",
      "MSE: 17728.780135384804\n",
      "RMSE: 133.1494653965415\n",
      "R2: 0.949525555038838\n"
     ]
    },
    {
     "data": {
      "image/png": "[encoded data removed]",
      "text/plain": [
       "<Figure size 576x360 with 1 Axes>"
      ]
     },
     "metadata": {
      "needs_background": "light"
     },
     "output_type": "display_data"
    }
   ],
   "source": [
    "# Re-train the model\n",
    "rr2 = Lasso(alpha=1000)\n",
    "rr2.fit(X_train_p3_sub, y_train_sub)\n",
    "\n",
    "print('Training error:')\n",
    "print_metrics(y_train_sub, rr2.predict(X_train_p3_sub))\n",
    "print()\n",
    "print('Test error:')\n",
    "print_metrics(y_test, rr2.predict(X_test_p3))\n",
    "\n",
    "plot_true_vs_pred(y_test, rr2.predict(X_test_p3))"
   ]
  },
  {
   "cell_type": "markdown",
   "metadata": {},
   "source": [
    "## Feature importance"
   ]
  },
  {
   "cell_type": "code",
   "execution_count": 23,
   "metadata": {},
   "outputs": [
    {
     "data": {
      "image/png": "[encoded data removed]",
      "text/plain": [
       "<Figure size 864x360 with 1 Axes>"
      ]
     },
     "metadata": {
      "needs_background": "light"
     },
     "output_type": "display_data"
    },
    {
     "name": "stdout",
     "output_type": "stream",
     "text": [
      "[ 0.00000000e+00  1.14914599e-02  1.43356652e-02  0.00000000e+00\n",
      "  0.00000000e+00  4.87273004e-07 -5.26338999e-07  0.00000000e+00\n",
      " -2.31906644e-04  5.78129229e-07  0.00000000e+00  1.05340794e-04\n",
      "  0.00000000e+00  0.00000000e+00  2.63549686e-03  8.10723036e-12\n",
      " -1.53079509e-11  5.73903548e-07  8.45474999e-09 -1.12429263e-12\n",
      " -4.60372640e-07 -1.12219827e-08  0.00000000e+00  5.27259030e-04\n",
      "  2.89932503e-06  2.63584169e-12 -8.92814212e-07  6.00132086e-09\n",
      "  1.41139653e-06 -4.48955172e-04 -2.84861915e-06 -4.88074093e-07\n",
      "  0.00000000e+00  1.49204337e-01 -2.50555901e-05]\n",
      "0.14920433653997997\n",
      "[0 0 1 2]\n"
     ]
    }
   ],
   "source": [
    "plt.figure(figsize=(12, 5))\n",
    "plt.bar(range(len(rr2.coef_)), rr2.coef_)\n",
    "plt.show()\n",
    "\n",
    "print(rr2.coef_)\n",
    "print(rr2.coef_[-2])\n",
    "print(poly3.powers_[-2])"
   ]
  },
  {
   "cell_type": "code",
   "execution_count": null,
   "metadata": {},
   "outputs": [],
   "source": []
  }
 ],
 "metadata": {
  "kernelspec": {
   "display_name": "Python 3",
   "language": "python",
   "name": "python3"
  },
  "language_info": {
   "codemirror_mode": {
    "name": "ipython",
    "version": 3
   },
   "file_extension": ".py",
   "mimetype": "text/x-python",
   "name": "python",
   "nbconvert_exporter": "python",
   "pygments_lexer": "ipython3",
   "version": "3.7.2"
  }
 },
 "nbformat": 4,
 "nbformat_minor": 2
}
