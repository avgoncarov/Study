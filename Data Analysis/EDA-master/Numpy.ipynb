{
 "cells": [
  {
   "cell_type": "markdown",
   "metadata": {},
   "source": [
    "# NumPy"
   ]
  },
  {
   "cell_type": "markdown",
   "metadata": {},
   "source": [
    "NumPy is a Python C extension library for array-oriented computing:\n",
    "* Efficient\n",
    "* In-memory\n",
    "* Contiguous\n",
    "* Homogeneous"
   ]
  },
  {
   "cell_type": "code",
   "execution_count": 1,
   "metadata": {},
   "outputs": [],
   "source": [
    "import numpy as np"
   ]
  },
  {
   "cell_type": "markdown",
   "metadata": {},
   "source": [
    "## Multidimensional array"
   ]
  },
  {
   "cell_type": "markdown",
   "metadata": {},
   "source": [
    "![ndarray.png](img/ndarray.png)\n",
    "Source: https://www.oreilly.com/library/view/elegant-scipy/9781491922927/ch01.html"
   ]
  },
  {
   "cell_type": "markdown",
   "metadata": {},
   "source": [
    "### Array creation"
   ]
  },
  {
   "cell_type": "code",
   "execution_count": 2,
   "metadata": {},
   "outputs": [
    {
     "name": "stdout",
     "output_type": "stream",
     "text": [
      "<class 'numpy.ndarray'>\n",
      "<class 'numpy.ndarray'>\n"
     ]
    }
   ],
   "source": [
    "# Creating numpy arrays from Python lists:\n",
    "\n",
    "vector = np.array([1, 2, 3, 4, 5, 6])\n",
    "matrix = np.array([\n",
    "    [6, 7, 8, 9, 10, 11],\n",
    "    [11, 12, 13, 14, 15, 16],\n",
    "])\n",
    "print(type(vector))\n",
    "print(type(matrix))"
   ]
  },
  {
   "cell_type": "code",
   "execution_count": 3,
   "metadata": {},
   "outputs": [
    {
     "name": "stdout",
     "output_type": "stream",
     "text": [
      "[1, 2, 3, 4, 5, 6]\n",
      "[[6, 7, 8, 9, 10, 11], [11, 12, 13, 14, 15, 16]]\n"
     ]
    }
   ],
   "source": [
    "# Converting numpy arrays back to Python lists:\n",
    "print(vector.tolist())\n",
    "print(matrix.tolist())"
   ]
  },
  {
   "cell_type": "code",
   "execution_count": 4,
   "metadata": {},
   "outputs": [
    {
     "name": "stdout",
     "output_type": "stream",
     "text": [
      "[[0. 0. 0. 0. 0.]\n",
      " [0. 0. 0. 0. 0.]\n",
      " [0. 0. 0. 0. 0.]]\n",
      "[[1. 1. 1. 1. 1.]\n",
      " [1. 1. 1. 1. 1.]\n",
      " [1. 1. 1. 1. 1.]]\n",
      "[[3.14 3.14 3.14 3.14 3.14]\n",
      " [3.14 3.14 3.14 3.14 3.14]\n",
      " [3.14 3.14 3.14 3.14 3.14]]\n"
     ]
    }
   ],
   "source": [
    "# Using built-in numpy functions to\n",
    "# initialize array with some constant:\n",
    "\n",
    "zero_matrix = np.zeros((3, 5))\n",
    "ones_matrix = np.ones((3, 5))\n",
    "number_matrix = np.full((3, 5), 3.14)\n",
    "\n",
    "print(zero_matrix)\n",
    "print(ones_matrix)\n",
    "print(number_matrix)\n"
   ]
  },
  {
   "cell_type": "code",
   "execution_count": 5,
   "metadata": {},
   "outputs": [
    {
     "name": "stdout",
     "output_type": "stream",
     "text": [
      "[ 0  2  4  6  8 10 12 14 16 18]\n",
      "[0.   0.25 0.5  0.75 1.  ]\n"
     ]
    }
   ],
   "source": [
    "# Generating sequences\n",
    "\n",
    "# Similar to built-in Python range() function:\n",
    "sequence_ints = np.arange(0, 20, 2)\n",
    "\n",
    "# Evenly spaced numbers over some interval:\n",
    "sequence_floats = np.linspace(0, 1, 5)\n",
    "\n",
    "print(sequence_ints)\n",
    "print(sequence_floats)"
   ]
  },
  {
   "cell_type": "code",
   "execution_count": 6,
   "metadata": {},
   "outputs": [
    {
     "name": "stdout",
     "output_type": "stream",
     "text": [
      "[[0.2343816  0.38047985 0.40893578 0.25066185 0.98279342]\n",
      " [0.62776566 0.90690507 0.04295425 0.98488676 0.81865499]\n",
      " [0.37550303 0.86091903 0.56294572 0.03390517 0.42132878]]\n",
      "[[71 62 35 60 47]\n",
      " [ 8 56 62 32 28]\n",
      " [64 95 26 50  6]]\n"
     ]
    }
   ],
   "source": [
    "# Random values\n",
    "\n",
    "# Floating-point values between 0 and 1:\n",
    "random_floats = np.random.random((3, 5))\n",
    "\n",
    "# Integer values between 0 and 100:\n",
    "random_integers = np.random.randint(0, 100, (3, 5))\n",
    "\n",
    "print(random_floats)\n",
    "print(random_integers)"
   ]
  },
  {
   "cell_type": "code",
   "execution_count": 7,
   "metadata": {},
   "outputs": [
    {
     "name": "stdout",
     "output_type": "stream",
     "text": [
      "[[1. 0. 0. 0. 0.]\n",
      " [0. 1. 0. 0. 0.]\n",
      " [0. 0. 1. 0. 0.]\n",
      " [0. 0. 0. 1. 0.]\n",
      " [0. 0. 0. 0. 1.]]\n",
      "[[0.2343816  0.38047985 0.40893578 0.25066185 0.98279342]\n",
      " [0.62776566 0.90690507 0.04295425 0.98488676 0.81865499]\n",
      " [0.37550303 0.86091903 0.56294572 0.03390517 0.42132878]]\n"
     ]
    }
   ],
   "source": [
    "# Other array creation routines\n",
    "\n",
    "# Identity matrices:\n",
    "identity_matrix = np.eye(5)\n",
    "\n",
    "# Allocate array without initializing its values:\n",
    "uninitialized_matrix = np.empty((3, 5))\n",
    "\n",
    "print(identity_matrix)\n",
    "print(uninitialized_matrix)"
   ]
  },
  {
   "cell_type": "markdown",
   "metadata": {},
   "source": [
    "### Shapes"
   ]
  },
  {
   "cell_type": "code",
   "execution_count": 8,
   "metadata": {},
   "outputs": [
    {
     "name": "stdout",
     "output_type": "stream",
     "text": [
      "(6,)\n",
      "(2, 6)\n",
      "1\n",
      "2\n"
     ]
    }
   ],
   "source": [
    "vector = np.array([1, 2, 3, 4, 5, 6])\n",
    "matrix = np.array([\n",
    "    [6, 7, 8, 9, 10, 11],\n",
    "    [11, 12, 13, 14, 15, 16],\n",
    "])\n",
    "\n",
    "# Getting array shape:\n",
    "print(vector.shape)\n",
    "print(matrix.shape)\n",
    "\n",
    "# Number of dimensions:\n",
    "print(vector.ndim)\n",
    "print(matrix.ndim)"
   ]
  },
  {
   "cell_type": "code",
   "execution_count": 9,
   "metadata": {},
   "outputs": [
    {
     "name": "stdout",
     "output_type": "stream",
     "text": [
      "[[ 6  7  8  9 10 11]\n",
      " [11 12 13 14 15 16]]\n",
      "[[ 6  7  8  9]\n",
      " [10 11 11 12]\n",
      " [13 14 15 16]]\n"
     ]
    }
   ],
   "source": [
    "# Arrays can be reshaped:\n",
    "print(matrix)\n",
    "print(matrix.reshape(3, 4))"
   ]
  },
  {
   "cell_type": "code",
   "execution_count": 10,
   "metadata": {},
   "outputs": [
    {
     "name": "stdout",
     "output_type": "stream",
     "text": [
      "[ 6  7  8  9 10 11 11 12 13 14 15 16]\n",
      "[[1 2 3]\n",
      " [4 5 6]]\n"
     ]
    }
   ],
   "source": [
    "# Also possible to reshape into a different number of dimensions:\n",
    "\n",
    "# 2D to 1D\n",
    "print(matrix.reshape(12))\n",
    "\n",
    "# 1D to 2D\n",
    "print(vector.reshape((2, 3)))"
   ]
  },
  {
   "cell_type": "code",
   "execution_count": 11,
   "metadata": {},
   "outputs": [
    {
     "name": "stdout",
     "output_type": "stream",
     "text": [
      "[ 6  7  8  9 10 11 11 12 13 14 15 16]\n",
      "[ 6  7  8  9 10 11 11 12 13 14 15 16]\n"
     ]
    }
   ],
   "source": [
    "# Converting multi-dimensional array into 1D:\n",
    "\n",
    "# This returns a new 1D array:\n",
    "print(matrix.flatten())\n",
    "\n",
    "# This returns a view into the original array:\n",
    "print(matrix.ravel())"
   ]
  },
  {
   "cell_type": "markdown",
   "metadata": {},
   "source": [
    "### Data types"
   ]
  },
  {
   "cell_type": "markdown",
   "metadata": {},
   "source": [
    "![np_datatypes.png](img/np_datatypes.png)\n",
    "Source: https://medium.com/@vsvaibhav2016/basics-of-numpy-python-for-data-analysis-45b0c43f591b"
   ]
  },
  {
   "cell_type": "code",
   "execution_count": 12,
   "metadata": {},
   "outputs": [
    {
     "name": "stdout",
     "output_type": "stream",
     "text": [
      "int64\n"
     ]
    }
   ],
   "source": [
    "vector = np.array([1, 2, 3, 4, 5, 6])\n",
    "matrix = np.array([\n",
    "    [6, 7, 8, 9, 10, 11],\n",
    "    [11, 12, 13, 14, 15, 16],\n",
    "])\n",
    "\n",
    "# Inspecting array data type:\n",
    "print(matrix.dtype)"
   ]
  },
  {
   "cell_type": "code",
   "execution_count": 13,
   "metadata": {},
   "outputs": [
    {
     "name": "stdout",
     "output_type": "stream",
     "text": [
      "int64\n",
      "float64\n"
     ]
    }
   ],
   "source": [
    "# Data type is implicitly determined\n",
    "# during array creation:\n",
    "\n",
    "vector_int = np.array([1, 2, 3])\n",
    "vector_float = np.array([1.0, 2.0, 3.0])\n",
    "\n",
    "print(vector_int.dtype)\n",
    "print(vector_float.dtype)"
   ]
  },
  {
   "cell_type": "code",
   "execution_count": 14,
   "metadata": {},
   "outputs": [
    {
     "name": "stdout",
     "output_type": "stream",
     "text": [
      "uint8\n",
      "float32\n"
     ]
    }
   ],
   "source": [
    "# It can also be specified explicitly:\n",
    "vector_small_int = np.array([1, 2, 3], dtype=np.uint8)\n",
    "vector_small_float = np.array([1.0, 2.0, 3.0], dtype=np.float32)\n",
    "\n",
    "print(vector_small_int.dtype)\n",
    "print(vector_small_float.dtype)"
   ]
  },
  {
   "cell_type": "code",
   "execution_count": 15,
   "metadata": {},
   "outputs": [
    {
     "name": "stdout",
     "output_type": "stream",
     "text": [
      "[1. 2. 3.]\n",
      "[1 2 3]\n"
     ]
    }
   ],
   "source": [
    "# Data type conversions\n",
    "# Be careful with casting into a narrower data type!\n",
    "\n",
    "print(vector_int.astype(np.float32))\n",
    "print(vector_float.astype(np.int32))"
   ]
  },
  {
   "cell_type": "markdown",
   "metadata": {},
   "source": [
    "### NumPy arrays vs. Python lists"
   ]
  },
  {
   "cell_type": "code",
   "execution_count": 16,
   "metadata": {},
   "outputs": [
    {
     "name": "stdout",
     "output_type": "stream",
     "text": [
      "Regular append() wont work...\n",
      "[1 2 3 4 5 7]\n"
     ]
    }
   ],
   "source": [
    "# Once the numpy array is created, you cannot\n",
    "# increase/decrease its size - a new array\n",
    "# has to be created instead\n",
    "some_vector = np.array([1, 2, 3, 4, 5])\n",
    "\n",
    "try:\n",
    "    some_vector.append(6)\n",
    "except:\n",
    "    print('Regular append() wont work...')\n",
    "\n",
    "# This returns a new array:\n",
    "new_vector = np.append(some_vector, 7)\n",
    "print(new_vector)"
   ]
  },
  {
   "cell_type": "code",
   "execution_count": 17,
   "metadata": {},
   "outputs": [
    {
     "name": "stdout",
     "output_type": "stream",
     "text": [
      "[3 4 5 6 7]\n"
     ]
    }
   ],
   "source": [
    "# Some operations not possible with Python lists\n",
    "# can be done with numpy arrays:\n",
    "\n",
    "some_vector = np.array([1, 2, 3, 4, 5])\n",
    "\n",
    "# Wouldn't work with regular lists:\n",
    "some_vector += 2\n",
    "\n",
    "print(some_vector)"
   ]
  },
  {
   "cell_type": "code",
   "execution_count": 18,
   "metadata": {
    "scrolled": true
   },
   "outputs": [
    {
     "data": {
      "text/plain": [
       "array([5, 7, 9])"
      ]
     },
     "execution_count": 18,
     "metadata": {},
     "output_type": "execute_result"
    }
   ],
   "source": [
    "# Adding two arrays together does not concatenate them,\n",
    "# but adds their elements together.\n",
    "# Same goes for other arithmetic operations.\n",
    "\n",
    "vec1 = np.array([1, 2, 3])\n",
    "vec2 = np.array([4, 5, 6])\n",
    "vec1 + vec2"
   ]
  },
  {
   "cell_type": "markdown",
   "metadata": {},
   "source": [
    "## Indexing"
   ]
  },
  {
   "cell_type": "code",
   "execution_count": 19,
   "metadata": {},
   "outputs": [
    {
     "name": "stdout",
     "output_type": "stream",
     "text": [
      "4\n",
      "11\n",
      "11\n"
     ]
    }
   ],
   "source": [
    "# Accessing elements of numpy arrays:\n",
    "vector = np.array([1, 2, 3, 4, 5, 6])\n",
    "matrix = np.array([\n",
    "    [1, 2, 3, 4],\n",
    "    [5, 6, 7, 8],\n",
    "    [9, 10, 11, 12],\n",
    "])\n",
    "\n",
    "print(vector[3])\n",
    "\n",
    "# Both options work:\n",
    "print(matrix[2][2])\n",
    "print(matrix[2, 2])"
   ]
  },
  {
   "cell_type": "markdown",
   "metadata": {},
   "source": [
    "### Slicing"
   ]
  },
  {
   "cell_type": "code",
   "execution_count": 20,
   "metadata": {},
   "outputs": [
    {
     "name": "stdout",
     "output_type": "stream",
     "text": [
      "[1 3 5]\n",
      "[[ 1  3]\n",
      " [ 5  7]\n",
      " [ 9 11]]\n"
     ]
    }
   ],
   "source": [
    "# Regular list slicing works in any number of dimensions:\n",
    "print(vector[0::2])    # Every second element\n",
    "print(matrix[:, 0::2]) # Every second column and all rows"
   ]
  },
  {
   "cell_type": "markdown",
   "metadata": {},
   "source": [
    "### Integer indexing"
   ]
  },
  {
   "cell_type": "code",
   "execution_count": 21,
   "metadata": {},
   "outputs": [
    {
     "name": "stdout",
     "output_type": "stream",
     "text": [
      "[1 2 3 4 5 6]\n",
      "[2 4 6]\n",
      "[2 4 6]\n"
     ]
    }
   ],
   "source": [
    "# You can use integer lists (or numpy arrays)\n",
    "# to access certain elements of numpy array\n",
    "\n",
    "# Either a regular Python list or a numpy array:\n",
    "indices_py = [1, 3, 5]\n",
    "indices_np = np.array([1, 3, 5])\n",
    "\n",
    "print(vector)\n",
    "print(vector[indices_py])\n",
    "print(vector[indices_np])"
   ]
  },
  {
   "cell_type": "code",
   "execution_count": 22,
   "metadata": {},
   "outputs": [
    {
     "name": "stdout",
     "output_type": "stream",
     "text": [
      "[ 1 12]\n",
      "[[9999    2    3    4]\n",
      " [   5    6    7    8]\n",
      " [   9   10   11 9999]]\n"
     ]
    }
   ],
   "source": [
    "# Integer indexing: 2D example\n",
    "\n",
    "# The tuple below must contain the same number of lists\n",
    "# as there are dimensions in the numpy array.\n",
    "\n",
    "# Each list represents indices for each array axis:\n",
    "indices = (\n",
    "    [0, 2],   # First axis (rows)\n",
    "    [0, 3],   # Second axis (columns)\n",
    ")\n",
    "\n",
    "# Integer indices can be used both for access and assignment:\n",
    "print(matrix[indices])\n",
    "matrix[indices] = 9999\n",
    "print(matrix)"
   ]
  },
  {
   "cell_type": "markdown",
   "metadata": {},
   "source": [
    "### Boolean indexing"
   ]
  },
  {
   "cell_type": "code",
   "execution_count": 23,
   "metadata": {},
   "outputs": [
    {
     "name": "stdout",
     "output_type": "stream",
     "text": [
      "[2 4 6]\n",
      "[2 4 6]\n"
     ]
    }
   ],
   "source": [
    "# Numpy array elements can also be accessed\n",
    "# by using a boolean array of the same dimension:\n",
    "\n",
    "# Once again, both Python lists and numpy arrays work fine:\n",
    "mask_py = [False, True, False, True, False, True]\n",
    "mask_np = np.array(mask_py)\n",
    "\n",
    "print(vector[mask_py])\n",
    "print(vector[mask_np])"
   ]
  },
  {
   "cell_type": "code",
   "execution_count": 24,
   "metadata": {},
   "outputs": [
    {
     "name": "stdout",
     "output_type": "stream",
     "text": [
      "[[False False False False]\n",
      " [False  True  True  True]\n",
      " [ True  True  True  True]]\n",
      "[ 6  7  8  9 10 11 12]\n"
     ]
    }
   ],
   "source": [
    "# Boolean indexing is most often used\n",
    "# together with comparison operators:\n",
    "\n",
    "matrix = np.array([\n",
    "    [1, 2, 3, 4],\n",
    "    [5, 6, 7, 8],\n",
    "    [9, 10, 11, 12],\n",
    "])\n",
    "\n",
    "# Using numpy array with some comparison operator\n",
    "# will return boolean array of the same dimension.\n",
    "mask = matrix > 5\n",
    "print(mask)\n",
    "print(matrix[mask])"
   ]
  },
  {
   "cell_type": "code",
   "execution_count": 25,
   "metadata": {},
   "outputs": [
    {
     "name": "stdout",
     "output_type": "stream",
     "text": [
      "(array([1, 1, 1, 2, 2, 2, 2]), array([1, 2, 3, 0, 1, 2, 3]))\n",
      "[ 6  7  8  9 10 11 12]\n"
     ]
    }
   ],
   "source": [
    "# In some cases you might want to use comparison operator,\n",
    "# but get integer indices, instead of boolean mask.\n",
    "\n",
    "# np.where() can be used in such case:\n",
    "indices = np.where(matrix > 5)\n",
    "\n",
    "print(indices)\n",
    "print(matrix[indices])"
   ]
  },
  {
   "cell_type": "markdown",
   "metadata": {},
   "source": [
    "## Array manipulation"
   ]
  },
  {
   "cell_type": "markdown",
   "metadata": {},
   "source": [
    "### Sorting"
   ]
  },
  {
   "cell_type": "code",
   "execution_count": 26,
   "metadata": {},
   "outputs": [
    {
     "name": "stdout",
     "output_type": "stream",
     "text": [
      "None\n",
      "[100 200 300 400 500 600]\n"
     ]
    }
   ],
   "source": [
    "# Simplest way of sorting arrays:\n",
    "\n",
    "unsorted_vector = np.array([100, 400, 200, 500, 300, 600])\n",
    "\n",
    "# This happens in-place:\n",
    "print(unsorted_vector.sort())\n",
    "print(unsorted_vector)"
   ]
  },
  {
   "cell_type": "code",
   "execution_count": 27,
   "metadata": {},
   "outputs": [
    {
     "name": "stdout",
     "output_type": "stream",
     "text": [
      "[0 2 4 1 3 5]\n",
      "[100 200 300 400 500 600]\n"
     ]
    }
   ],
   "source": [
    "# Returning the element indices in particular order,\n",
    "# without actually sorting the array:\n",
    "\n",
    "unsorted_vector = np.array([100, 400, 200, 500, 300, 600])\n",
    "order = np.argsort(unsorted_vector)\n",
    "\n",
    "print(order)\n",
    "print(unsorted_vector[order])\n",
    "\n",
    "# Useful when you have more than one array\n",
    "# and want to sort them all in specific order"
   ]
  },
  {
   "cell_type": "markdown",
   "metadata": {},
   "source": [
    "### Joining"
   ]
  },
  {
   "cell_type": "code",
   "execution_count": 28,
   "metadata": {},
   "outputs": [
    {
     "data": {
      "text/plain": [
       "(5, 10)"
      ]
     },
     "execution_count": 28,
     "metadata": {},
     "output_type": "execute_result"
    }
   ],
   "source": [
    "# Concatenating arrays:\n",
    "\n",
    "a1 = np.random.randint(0, 100, (2, 10))\n",
    "a2 = np.random.randint(0, 100, (3, 10))\n",
    "\n",
    "# This joins multiple arrays along existing axis:\n",
    "concatenated = np.concatenate((a1, a2))\n",
    "concatenated.shape"
   ]
  },
  {
   "cell_type": "code",
   "execution_count": 29,
   "metadata": {},
   "outputs": [
    {
     "data": {
      "text/plain": [
       "(2, 10)"
      ]
     },
     "execution_count": 29,
     "metadata": {},
     "output_type": "execute_result"
    }
   ],
   "source": [
    "# Stacking arrays:\n",
    "\n",
    "a1 = np.random.randint(0, 100, (10,))\n",
    "a2 = np.random.randint(0, 100, (10,))\n",
    "\n",
    "# This joins multiple arrays along a new axis:\n",
    "stacked = np.stack((a1, a2))\n",
    "stacked.shape\n"
   ]
  },
  {
   "cell_type": "markdown",
   "metadata": {},
   "source": [
    "## Operations"
   ]
  },
  {
   "cell_type": "code",
   "execution_count": 30,
   "metadata": {},
   "outputs": [
    {
     "data": {
      "text/plain": [
       "1.0"
      ]
     },
     "execution_count": 30,
     "metadata": {},
     "output_type": "execute_result"
    }
   ],
   "source": [
    "# Numpy module itself contains a large number\n",
    "# of various mathematical functions\n",
    "\n",
    "np.sin(np.pi / 2)"
   ]
  },
  {
   "cell_type": "markdown",
   "metadata": {},
   "source": [
    "### Basic statistics"
   ]
  },
  {
   "cell_type": "code",
   "execution_count": 31,
   "metadata": {},
   "outputs": [
    {
     "name": "stdout",
     "output_type": "stream",
     "text": [
      "Min:             1\n",
      "Max:             6\n",
      "Sum:             21\n",
      "Std. deviation:  1.707825127659933\n",
      "Variance:        2.9166666666666665\n",
      "Mean:            3.5\n",
      "Median:          3.5\n"
     ]
    }
   ],
   "source": [
    "# Dealing with 1D arrays is simple:\n",
    "print('Min:            ', vector.min())\n",
    "print('Max:            ', vector.max())\n",
    "print('Sum:            ', vector.sum())\n",
    "print('Std. deviation: ', vector.std())\n",
    "print('Variance:       ', vector.var())\n",
    "print('Mean:           ', vector.mean())\n",
    "print('Median:         ', np.median(vector))"
   ]
  },
  {
   "cell_type": "code",
   "execution_count": 32,
   "metadata": {},
   "outputs": [
    {
     "name": "stdout",
     "output_type": "stream",
     "text": [
      "78\n",
      "[15 18 21 24]\n",
      "[10 26 42]\n"
     ]
    }
   ],
   "source": [
    "# When working with two (or more) dimensional arrays,\n",
    "# axis can be specified along which the operation is applied:\n",
    "\n",
    "# This just returns the sum of all elements:\n",
    "print(matrix.sum())\n",
    "\n",
    "# This computes sum of each column:\n",
    "print(matrix.sum(axis=0))\n",
    "\n",
    "# This computes sum of each row:\n",
    "print(matrix.sum(axis=1))"
   ]
  },
  {
   "cell_type": "markdown",
   "metadata": {},
   "source": [
    "### Linear algebra"
   ]
  },
  {
   "cell_type": "code",
   "execution_count": 33,
   "metadata": {},
   "outputs": [
    {
     "name": "stdout",
     "output_type": "stream",
     "text": [
      "[[ 1  2  3  4]\n",
      " [ 5  6  7  8]\n",
      " [ 9 10 11 12]]\n",
      "[[ 1  5  9]\n",
      " [ 2  6 10]\n",
      " [ 3  7 11]\n",
      " [ 4  8 12]]\n"
     ]
    }
   ],
   "source": [
    "# Matrix transpose:\n",
    "\n",
    "print(matrix)\n",
    "print(matrix.T)"
   ]
  },
  {
   "cell_type": "code",
   "execution_count": 34,
   "metadata": {},
   "outputs": [
    {
     "data": {
      "text/plain": [
       "-1807788.999999882"
      ]
     },
     "execution_count": 34,
     "metadata": {},
     "output_type": "execute_result"
    }
   ],
   "source": [
    "# Matrix determinant:\n",
    "\n",
    "square_matrix = np.random.randint(0, 100, (5, 5))\n",
    "np.linalg.det(square_matrix)"
   ]
  },
  {
   "cell_type": "code",
   "execution_count": 35,
   "metadata": {},
   "outputs": [
    {
     "data": {
      "text/plain": [
       "array([[  7.69957501, -10.08189396,   3.63536176,  -2.89099392,\n",
       "          3.58035866],\n",
       "       [  5.26902808,  -6.91578829,   2.49661548,  -1.96950806,\n",
       "          2.45280174],\n",
       "       [ -5.27930749,   6.91899608,  -2.50178588,   1.99002096,\n",
       "         -2.44915087],\n",
       "       [  7.179844  ,  -9.41069339,   3.4045096 ,  -2.70904348,\n",
       "          3.34633964],\n",
       "       [-15.85649487,  20.79630919,  -7.49355096,   5.95767095,\n",
       "         -7.39633718]])"
      ]
     },
     "execution_count": 35,
     "metadata": {},
     "output_type": "execute_result"
    }
   ],
   "source": [
    "# Matrix inverse\n",
    "np.linalg.inv(square_matrix)"
   ]
  },
  {
   "cell_type": "code",
   "execution_count": 36,
   "metadata": {},
   "outputs": [
    {
     "data": {
      "text/plain": [
       "array([[15425, 23552, 19653],\n",
       "       [ 7423,  6027,  6935]])"
      ]
     },
     "execution_count": 36,
     "metadata": {},
     "output_type": "execute_result"
    }
   ],
   "source": [
    "# Matrix multiplication\n",
    "\n",
    "# Note the dimensions!\n",
    "m1 = np.random.randint(0, 100, (2, 5))\n",
    "m2 = np.random.randint(0, 100, (5, 3))\n",
    "\n",
    "np.dot(m1, m2)"
   ]
  },
  {
   "cell_type": "code",
   "execution_count": 37,
   "metadata": {},
   "outputs": [
    {
     "name": "stdout",
     "output_type": "stream",
     "text": [
      "[[ 6489  9252 10081  3410]\n",
      " [ 7121 15608 16044  9395]\n",
      " [ 5819 10008 10201  5355]\n",
      " [ 9212 14558 15128  7140]]\n",
      "[[ 374  276 3484 5133]\n",
      " [ 581 1332 2044  765]\n",
      " [ 294 3195 2508  658]\n",
      " [5238 3300 4158  936]]\n"
     ]
    }
   ],
   "source": [
    "# Dot product vs. element-size multiplication\n",
    "# Don't confuse them!\n",
    "sm1 = np.random.randint(0, 100, (4, 4))\n",
    "sm2 = np.random.randint(0, 100, (4, 4))\n",
    "\n",
    "print(np.dot(sm1, sm2))\n",
    "print(sm1 * sm2)"
   ]
  }
 ],
 "metadata": {
  "kernelspec": {
   "display_name": "Python 3",
   "language": "python",
   "name": "python3"
  },
  "language_info": {
   "codemirror_mode": {
    "name": "ipython",
    "version": 3
   },
   "file_extension": ".py",
   "mimetype": "text/x-python",
   "name": "python",
   "nbconvert_exporter": "python",
   "pygments_lexer": "ipython3",
   "version": "3.7.7"
  }
 },
 "nbformat": 4,
 "nbformat_minor": 4
}
