{
 "cells": [
  {
   "cell_type": "markdown",
   "metadata": {},
   "source": [
    "# Introduction"
   ]
  },
  {
   "cell_type": "markdown",
   "metadata": {},
   "source": [
    "## Environment setup"
   ]
  },
  {
   "cell_type": "markdown",
   "metadata": {},
   "source": [
    "Required software:\n",
    "- Python 3.6+\n",
    "- Jupyter Notebook\n",
    "- Python libraries: numpy, pandas, matplotlib, scikit-learn, tensorflow, Keras"
   ]
  },
  {
   "cell_type": "markdown",
   "metadata": {},
   "source": [
    "Setup options:\n",
    "\n",
    "- Option #1 - install the listed packages separately\n",
    "\n",
    "- Option #2 - install Anaconda Distribution (includes all necessary packages): [https://www.anaconda.com/distribution/](https://www.anaconda.com/distribution/)\n",
    "\n",
    "- Option #3 - Google Colab: [https://colab.research.google.com](https://colab.research.google.com)"
   ]
  },
  {
   "cell_type": "markdown",
   "metadata": {},
   "source": [
    "## Where to find datasets"
   ]
  },
  {
   "cell_type": "markdown",
   "metadata": {},
   "source": [
    "Kaggle: [https://www.kaggle.com/](https://www.kaggle.com/)\n",
    "\n",
    "Google Dataset Search: [https://datasetsearch.research.google.com/](https://datasetsearch.research.google.com/)\n",
    "\n",
    "UCI Machine learning repository: [http://archive.ics.uci.edu/ml/index.php](http://archive.ics.uci.edu/ml/index.php)"
   ]
  },
  {
   "cell_type": "markdown",
   "metadata": {},
   "source": [
    "# 15-minute Python tutorial"
   ]
  },
  {
   "cell_type": "markdown",
   "metadata": {},
   "source": [
    "## Data types"
   ]
  },
  {
   "cell_type": "markdown",
   "metadata": {},
   "source": [
    "### Basic data types"
   ]
  },
  {
   "cell_type": "code",
   "execution_count": 1,
   "metadata": {},
   "outputs": [
    {
     "name": "stdout",
     "output_type": "stream",
     "text": [
      "123\n",
      "9999999999999999999999\n"
     ]
    }
   ],
   "source": [
    "# Integers\n",
    "integer = 123\n",
    "very_large_int = 9999999999999999999999\n",
    "print(integer)\n",
    "print(very_large_int)"
   ]
  },
  {
   "cell_type": "code",
   "execution_count": 2,
   "metadata": {},
   "outputs": [
    {
     "name": "stdout",
     "output_type": "stream",
     "text": [
      "0.852\n",
      "0.3333333333333333\n"
     ]
    }
   ],
   "source": [
    "# Floats\n",
    "# Accurate up to 15 decimal points:\n",
    "float1 = 0.852\n",
    "float2 = 1 / 3\n",
    "print(float1)\n",
    "print(float2)"
   ]
  },
  {
   "cell_type": "code",
   "execution_count": 3,
   "metadata": {},
   "outputs": [
    {
     "name": "stdout",
     "output_type": "stream",
     "text": [
      "True\n",
      "True\n",
      "False\n"
     ]
    }
   ],
   "source": [
    "# Booleans\n",
    "this_is_true = True\n",
    "this_is_also_true = 1 != 2\n",
    "this_is_false = 1 == 2\n",
    "\n",
    "print(this_is_true)\n",
    "print(this_is_also_true)\n",
    "print(this_is_false)"
   ]
  },
  {
   "cell_type": "code",
   "execution_count": 4,
   "metadata": {},
   "outputs": [
    {
     "name": "stdout",
     "output_type": "stream",
     "text": [
      "Hello world\n",
      "The value is: 123\n"
     ]
    }
   ],
   "source": [
    "# Strings\n",
    "word1 = \"Hello\"      # You can use either single or double quotes\n",
    "word2 = 'world'\n",
    "words = word1 + ' ' + word2\n",
    "print(words)\n",
    "\n",
    "num = 123\n",
    "message = f'The value is: {num}'     # String formatting (f-strings)\n",
    "print(message)"
   ]
  },
  {
   "cell_type": "markdown",
   "metadata": {},
   "source": [
    "### Lists"
   ]
  },
  {
   "cell_type": "markdown",
   "metadata": {},
   "source": [
    "- Python equivalent of an array\n",
    "- Ordered collection of values\n",
    "- Zero-indexed\n",
    "- Resizable\n",
    "- Can contain elements of different types"
   ]
  },
  {
   "cell_type": "code",
   "execution_count": 5,
   "metadata": {},
   "outputs": [
    {
     "data": {
      "text/plain": [
       "[2, 999, 3, 4, 5, 6]"
      ]
     },
     "execution_count": 5,
     "metadata": {},
     "output_type": "execute_result"
    }
   ],
   "source": [
    "# Creating a list and adding/removing values\n",
    "list_demo = [1, 2, 3, 4, 5]\n",
    "list_demo.append(6)          # At the end of the list\n",
    "list_demo.insert(2, 999)     # At the specified position\n",
    "list_demo.pop(0)\n",
    "list_demo"
   ]
  },
  {
   "cell_type": "code",
   "execution_count": 6,
   "metadata": {},
   "outputs": [
    {
     "name": "stdout",
     "output_type": "stream",
     "text": [
      "5\n",
      "[0, 1, 2, 3, 4]\n",
      "[5, 6, 7, 8, 9]\n",
      "[2, 3, 4, 5, 6, 7]\n"
     ]
    }
   ],
   "source": [
    "# Getting a range of values with slices\n",
    "list_demo = [0, 1, 2, 3, 4, 5, 6, 7, 8, 9]\n",
    "print(list_demo[5])\n",
    "print(list_demo[:5])\n",
    "print(list_demo[5:])\n",
    "print(list_demo[2:8])"
   ]
  },
  {
   "cell_type": "code",
   "execution_count": 7,
   "metadata": {},
   "outputs": [
    {
     "data": {
      "text/plain": [
       "5"
      ]
     },
     "execution_count": 7,
     "metadata": {},
     "output_type": "execute_result"
    }
   ],
   "source": [
    "# Length of the list\n",
    "list_demo = [5, 1, 4, 2, 3]\n",
    "len(list_demo)"
   ]
  },
  {
   "cell_type": "code",
   "execution_count": 8,
   "metadata": {},
   "outputs": [
    {
     "name": "stdout",
     "output_type": "stream",
     "text": [
      "[1, 4, 9, 16, 25]\n"
     ]
    }
   ],
   "source": [
    "# Iterate through the list\n",
    "numbers = [1, 2, 3, 4, 5]\n",
    "squares = []\n",
    "for number in numbers:\n",
    "    square = number ** 2\n",
    "    squares.append(square)\n",
    "print(squares)"
   ]
  },
  {
   "cell_type": "code",
   "execution_count": 9,
   "metadata": {},
   "outputs": [
    {
     "name": "stdout",
     "output_type": "stream",
     "text": [
      "[1, 4, 9, 16, 25]\n"
     ]
    }
   ],
   "source": [
    "# List comprehensions\n",
    "numbers = [1, 2, 3, 4, 5]\n",
    "squares = [number ** 2 for number in numbers]\n",
    "print(squares)"
   ]
  },
  {
   "cell_type": "markdown",
   "metadata": {},
   "source": [
    "### Tuples"
   ]
  },
  {
   "cell_type": "markdown",
   "metadata": {},
   "source": [
    "- Ordered list of values, similar to list\n",
    "- Immutable\n",
    "- Often used to return multiple values from a function"
   ]
  },
  {
   "cell_type": "code",
   "execution_count": 10,
   "metadata": {},
   "outputs": [
    {
     "data": {
      "text/plain": [
       "(1, 2, 3)"
      ]
     },
     "execution_count": 10,
     "metadata": {},
     "output_type": "execute_result"
    }
   ],
   "source": [
    "# Creating a tuple:\n",
    "tuple_demo = (1, 2, 3,)\n",
    "tuple_demo"
   ]
  },
  {
   "cell_type": "code",
   "execution_count": 11,
   "metadata": {},
   "outputs": [
    {
     "ename": "AttributeError",
     "evalue": "'tuple' object has no attribute 'append'",
     "output_type": "error",
     "traceback": [
      "\u001b[0;31m---------------------------------------------------------------------------\u001b[0m",
      "\u001b[0;31mAttributeError\u001b[0m                            Traceback (most recent call last)",
      "\u001b[0;32m<ipython-input-11-b0d41d3c4698>\u001b[0m in \u001b[0;36m<module>\u001b[0;34m()\u001b[0m\n\u001b[1;32m      1\u001b[0m \u001b[0;31m# Once created, it cannot be modified!\u001b[0m\u001b[0;34m\u001b[0m\u001b[0;34m\u001b[0m\u001b[0;34m\u001b[0m\u001b[0m\n\u001b[1;32m      2\u001b[0m \u001b[0mtuple_demo\u001b[0m \u001b[0;34m=\u001b[0m \u001b[0;34m(\u001b[0m\u001b[0;36m1\u001b[0m\u001b[0;34m,\u001b[0m \u001b[0;36m2\u001b[0m\u001b[0;34m,\u001b[0m \u001b[0;36m3\u001b[0m\u001b[0;34m,\u001b[0m\u001b[0;34m)\u001b[0m\u001b[0;34m\u001b[0m\u001b[0;34m\u001b[0m\u001b[0m\n\u001b[0;32m----> 3\u001b[0;31m \u001b[0mtuple_demo\u001b[0m\u001b[0;34m.\u001b[0m\u001b[0mappend\u001b[0m\u001b[0;34m(\u001b[0m\u001b[0;36m999\u001b[0m\u001b[0;34m)\u001b[0m\u001b[0;34m\u001b[0m\u001b[0;34m\u001b[0m\u001b[0m\n\u001b[0m",
      "\u001b[0;31mAttributeError\u001b[0m: 'tuple' object has no attribute 'append'"
     ]
    }
   ],
   "source": [
    "# Once created, it cannot be modified!\n",
    "tuple_demo = (1, 2, 3,)\n",
    "tuple_demo.append(999)"
   ]
  },
  {
   "cell_type": "markdown",
   "metadata": {},
   "source": [
    "### Dictionaries"
   ]
  },
  {
   "cell_type": "markdown",
   "metadata": {},
   "source": [
    "- Key/value pairs\n",
    "- Similar to Map datatype in Java"
   ]
  },
  {
   "cell_type": "code",
   "execution_count": 12,
   "metadata": {},
   "outputs": [
    {
     "name": "stdout",
     "output_type": "stream",
     "text": [
      "1\n",
      "{'a': 100, 'b': 2, 'c': 999}\n"
     ]
    }
   ],
   "source": [
    "# Creating a dictionary and setting/getting its values\n",
    "dict_demo = {'a': 1, 'b': 2}\n",
    "\n",
    "print(dict_demo['a'])\n",
    "dict_demo['a'] = 100\n",
    "dict_demo['c'] = 999\n",
    "print(dict_demo)"
   ]
  },
  {
   "cell_type": "code",
   "execution_count": 13,
   "metadata": {},
   "outputs": [
    {
     "name": "stdout",
     "output_type": "stream",
     "text": [
      "a 1\n",
      "b 2\n",
      "c 3\n"
     ]
    }
   ],
   "source": [
    "# Iterating through a dictionary\n",
    "dict_demo = {'a': 1, 'b': 2, 'c': 3}\n",
    "for key, value in dict_demo.items():\n",
    "    print(key, value)"
   ]
  },
  {
   "cell_type": "markdown",
   "metadata": {},
   "source": [
    "## Control flow"
   ]
  },
  {
   "cell_type": "markdown",
   "metadata": {},
   "source": [
    "### Conditional statements"
   ]
  },
  {
   "cell_type": "code",
   "execution_count": 14,
   "metadata": {},
   "outputs": [
    {
     "name": "stdout",
     "output_type": "stream",
     "text": [
      "x is zero\n"
     ]
    }
   ],
   "source": [
    "# 'if-elif-else'\n",
    "x = 0\n",
    "if x == 0:\n",
    "    print('x is zero')\n",
    "elif x > 0:\n",
    "    print('x is positive')\n",
    "elif x < 0:\n",
    "    print('x is negative')\n",
    "else:\n",
    "    print('not possible!')"
   ]
  },
  {
   "cell_type": "code",
   "execution_count": 15,
   "metadata": {},
   "outputs": [],
   "source": [
    "# Empty lists, dicts, sets and tuples are treated as False\n",
    "empty_list = []\n",
    "empty_dict = {}\n",
    "empty_set = set()\n",
    "empty_tuple = tuple()\n",
    "\n",
    "if empty_list:\n",
    "    print('list')\n",
    "if empty_dict:\n",
    "    print('dict')\n",
    "if empty_set:\n",
    "    print('set')\n",
    "if empty_tuple:\n",
    "    print('tuple')"
   ]
  },
  {
   "cell_type": "markdown",
   "metadata": {},
   "source": [
    "### Loops"
   ]
  },
  {
   "cell_type": "code",
   "execution_count": 16,
   "metadata": {},
   "outputs": [
    {
     "name": "stdout",
     "output_type": "stream",
     "text": [
      "1\n",
      "2\n",
      "3\n",
      "4\n"
     ]
    }
   ],
   "source": [
    "# 'For' loop\n",
    "some_list = [1, 2, 3, 4]\n",
    "for item in some_list:\n",
    "    print(item)"
   ]
  },
  {
   "cell_type": "code",
   "execution_count": 17,
   "metadata": {},
   "outputs": [
    {
     "name": "stdout",
     "output_type": "stream",
     "text": [
      "0\n",
      "1\n",
      "2\n",
      "3\n",
      "4\n"
     ]
    }
   ],
   "source": [
    "# 'While' loop\n",
    "x = 0\n",
    "while True:       # Any boolean expression can be used here\n",
    "    print(x)\n",
    "    x += 1\n",
    "    if x > 4:\n",
    "        break"
   ]
  },
  {
   "cell_type": "markdown",
   "metadata": {},
   "source": [
    "## Functions"
   ]
  },
  {
   "cell_type": "markdown",
   "metadata": {},
   "source": [
    "- Functions are declared with ```def``` keyword\n",
    "- No return type and no parameter types are specified\n",
    "- Same indentation rules apply as in other control flow blocks (```if``` statement, ```for``` loop, etc)\n",
    "- If function has no ```return``` statement, it returns ```None``` by default\n",
    "- Functions can return multiple values\n",
    "- Functions can be nested"
   ]
  },
  {
   "cell_type": "code",
   "execution_count": 18,
   "metadata": {},
   "outputs": [
    {
     "name": "stdout",
     "output_type": "stream",
     "text": [
      "10\n"
     ]
    }
   ],
   "source": [
    "# Function definition\n",
    "def add_numbers(num1, num2):\n",
    "    res = num1 + num2\n",
    "    return res\n",
    "    \n",
    "result = add_numbers(3, 7)\n",
    "print(result)"
   ]
  },
  {
   "cell_type": "code",
   "execution_count": 19,
   "metadata": {},
   "outputs": [
    {
     "name": "stdout",
     "output_type": "stream",
     "text": [
      "1 text False\n"
     ]
    }
   ],
   "source": [
    "# Function can return multiple values at once (as a tuple)\n",
    "def return_multiple():\n",
    "    val1 = 1\n",
    "    val2 = 'text'\n",
    "    val3 = False\n",
    "    return val1, val2, val3\n",
    "\n",
    "# res1, res2, res3 = return_multiple()\n",
    "# print(res1, res2, res3)\n",
    "results = return_multiple()\n",
    "res1, res2, res3 = results\n",
    "print(res1, res2, res3)"
   ]
  },
  {
   "cell_type": "code",
   "execution_count": 20,
   "metadata": {},
   "outputs": [
    {
     "name": "stdout",
     "output_type": "stream",
     "text": [
      "1st argument: 123, 2nd argument: text\n",
      "1st argument: 123, 2nd argument: 9999999\n"
     ]
    }
   ],
   "source": [
    "# Optional arguments\n",
    "def some_func(first, second='text'):\n",
    "    print(f'1st argument: {first}, 2nd argument: {second}')\n",
    "    \n",
    "some_func(123)\n",
    "some_func(123, second=9999999)"
   ]
  },
  {
   "cell_type": "markdown",
   "metadata": {},
   "source": [
    "## Classes and objects"
   ]
  },
  {
   "cell_type": "code",
   "execution_count": 21,
   "metadata": {},
   "outputs": [
    {
     "name": "stdout",
     "output_type": "stream",
     "text": [
      "101 202\n"
     ]
    }
   ],
   "source": [
    "class ComplexNumber:\n",
    "    \n",
    "    # Constructor\n",
    "    def __init__(self, real, imag):\n",
    "        # Instance variables\n",
    "        self.real = real\n",
    "        self.imag = imag\n",
    "\n",
    "    # Instance method\n",
    "    def add(self, other):\n",
    "        sum_real = self.real + other.real\n",
    "        sum_imag = self.imag + other.imag\n",
    "        return ComplexNumber(sum_real, sum_imag)\n",
    "        \n",
    "# First argument ('self') is required and refers to the current instance\n",
    "        \n",
    "# Creating objects (class instances)\n",
    "c1 = ComplexNumber(1, 2)\n",
    "c2 = ComplexNumber(100, 200)\n",
    "\n",
    "# Calling methods\n",
    "c3 = c1.add(c2)\n",
    "\n",
    "print(c3.real, c3.imag)"
   ]
  },
  {
   "cell_type": "code",
   "execution_count": null,
   "metadata": {},
   "outputs": [],
   "source": []
  }
 ],
 "metadata": {
  "kernelspec": {
   "display_name": "Python3",
   "language": "python",
   "name": "python3"
  },
  "language_info": {
   "codemirror_mode": {
    "name": "ipython",
    "version": 3
   },
   "file_extension": ".py",
   "mimetype": "text/x-python",
   "name": "python",
   "nbconvert_exporter": "python",
   "pygments_lexer": "ipython3",
   "version": "3.6.5"
  }
 },
 "nbformat": 4,
 "nbformat_minor": 2
}
